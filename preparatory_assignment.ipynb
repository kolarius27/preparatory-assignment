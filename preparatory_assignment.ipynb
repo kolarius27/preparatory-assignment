{
 "cells": [
  {
   "cell_type": "code",
   "execution_count": 1,
   "id": "63d86e0d",
   "metadata": {},
   "outputs": [
    {
     "name": "stdout",
     "output_type": "stream",
     "text": [
      "Great! All required Python packages were found. You're ready for the course!\n"
     ]
    },
    {
     "data": {
      "text/plain": [
       "1"
      ]
     },
     "execution_count": 1,
     "metadata": {},
     "output_type": "execute_result"
    }
   ],
   "source": [
    "import check_environment as check\n",
    "check.check_packages()"
   ]
  },
  {
   "cell_type": "code",
   "execution_count": 3,
   "id": "2a139d06",
   "metadata": {},
   "outputs": [],
   "source": [
    "def list_sum(list_num):\n",
    "    return sum(list_num)"
   ]
  },
  {
   "cell_type": "code",
   "execution_count": 4,
   "id": "aa52af8f",
   "metadata": {},
   "outputs": [
    {
     "name": "stdout",
     "output_type": "stream",
     "text": [
      "10\n"
     ]
    }
   ],
   "source": [
    "numbers = [1,2,3,4]\n",
    "numbers_sum = list_sum(numbers)\n",
    "print(numbers_sum)"
   ]
  },
  {
   "cell_type": "code",
   "execution_count": null,
   "id": "41eff7a7",
   "metadata": {},
   "outputs": [],
   "source": []
  }
 ],
 "metadata": {
  "kernelspec": {
   "display_name": "Python 3",
   "language": "python",
   "name": "python3"
  },
  "language_info": {
   "codemirror_mode": {
    "name": "ipython",
    "version": 3
   },
   "file_extension": ".py",
   "mimetype": "text/x-python",
   "name": "python",
   "nbconvert_exporter": "python",
   "pygments_lexer": "ipython3",
   "version": "3.7.10"
  }
 },
 "nbformat": 4,
 "nbformat_minor": 5
}
